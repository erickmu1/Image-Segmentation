{
  "nbformat": 4,
  "nbformat_minor": 0,
  "metadata": {
    "colab": {
      "name": "GitManagement.ipynb",
      "provenance": [],
      "include_colab_link": true
    },
    "kernelspec": {
      "name": "python3",
      "display_name": "Python 3"
    }
  },
  "cells": [
    {
      "cell_type": "markdown",
      "metadata": {
        "id": "view-in-github",
        "colab_type": "text"
      },
      "source": [
        "<a href=\"https://colab.research.google.com/github/erickmu1/Image-Segmentation/blob/main/GitManagement.ipynb\" target=\"_parent\"><img src=\"https://colab.research.google.com/assets/colab-badge.svg\" alt=\"Open In Colab\"/></a>"
      ]
    },
    {
      "cell_type": "markdown",
      "metadata": {
        "id": "V5Fje7Mu90f2"
      },
      "source": [
        "# GitHub Management #\n",
        "\n",
        "Some Git commands are not so easy to use when running them from a file that you are currently working on. The purpose of this notebook is to enable using git as one would from a terminal."
      ]
    },
    {
      "cell_type": "code",
      "metadata": {
        "id": "ERXJz_dd9zKW"
      },
      "source": [
        "import os\n",
        "\n",
        "# Directories\n",
        "DRIVE_ROOT = '/content/drive'\n",
        "COLAB_ROOT = 'My Drive/Colab Notebooks'\n",
        "\n",
        "ROOT = os.path.join(*[ DRIVE_ROOT, COLAB_ROOT, 'Image-Segmentation' ])"
      ],
      "execution_count": null,
      "outputs": []
    },
    {
      "cell_type": "code",
      "metadata": {
        "id": "g5WrDOP5DGEm",
        "outputId": "95920318-87c8-4df1-a5de-88f8aaf0a277",
        "colab": {
          "base_uri": "https://localhost:8080/"
        }
      },
      "source": [
        "from google.colab import drive\n",
        "\n",
        "# Link to Google Drive\n",
        "drive.mount(DRIVE_ROOT)"
      ],
      "execution_count": null,
      "outputs": [
        {
          "output_type": "stream",
          "text": [
            "Mounted at /content/drive\n"
          ],
          "name": "stdout"
        }
      ]
    },
    {
      "cell_type": "code",
      "metadata": {
        "id": "2SiqemNoDK0n"
      },
      "source": [
        "# Navigate to Colab Notebooks\n",
        "%cd \"{DRIVE_ROOT}/{COLAB_ROOT}\"\n",
        "\n",
        "# Clone the repository\n",
        "!git clone https://github.com/erickmu1/Image-Segmentation.git\n",
        "\n",
        "# Top-level repository folder\n",
        "%cd ./Image-Segmentation\n",
        "\n",
        "# Repository Status\n",
        "!git status"
      ],
      "execution_count": null,
      "outputs": []
    },
    {
      "cell_type": "code",
      "metadata": {
        "id": "kM25DqI5DQbv"
      },
      "source": [
        "%cd \"{ROOT}\"\n",
        "\n",
        "# Extra space for any additional git management"
      ],
      "execution_count": null,
      "outputs": []
    }
  ]
}