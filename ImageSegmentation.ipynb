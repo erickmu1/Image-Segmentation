{
  "nbformat": 4,
  "nbformat_minor": 0,
  "metadata": {
    "colab": {
      "name": "ImageSegmentation.ipynb",
      "provenance": [],
      "collapsed_sections": [
        "ypZeIW3NCP-O",
        "f_BM7bWJLnai",
        "aeRLVFhHXEHF",
        "-iEJJLIRPpqz",
        "yZSROAWI_TCY",
        "-3fTj9-8YLPi"
      ],
      "include_colab_link": true
    },
    "kernelspec": {
      "name": "python3",
      "display_name": "Python 3"
    }
  },
  "cells": [
    {
      "cell_type": "markdown",
      "metadata": {
        "id": "view-in-github",
        "colab_type": "text"
      },
      "source": [
        "<a href=\"https://colab.research.google.com/github/erickmu1/Image-Segmentation/blob/E/ImageSegmentation.ipynb\" target=\"_parent\"><img src=\"https://colab.research.google.com/assets/colab-badge.svg\" alt=\"Open In Colab\"/></a>"
      ]
    },
    {
      "cell_type": "markdown",
      "metadata": {
        "id": "V5Fje7Mu90f2"
      },
      "source": [
        "# APS360: Image Segmentation #\n",
        "\n",
        "### **Team 5** ###\n",
        "- Bonnie He\n",
        "- Erick Mejia Uzeda\n",
        "- Hannah Lee\n",
        "\n",
        "## Project Description ##\n",
        "\n",
        "TODO"
      ]
    },
    {
      "cell_type": "markdown",
      "metadata": {
        "id": "Elu3WwbW9uAf"
      },
      "source": [
        "# Imports + Global Variables #\n",
        "\n",
        "Here we import all required libraries and define any useful variables."
      ]
    },
    {
      "cell_type": "code",
      "metadata": {
        "id": "wWjctfdF9y8z"
      },
      "source": [
        "# Pytorch\n",
        "import torch\n",
        "import torch.nn as nn\n",
        "import torch.optim as optim\n",
        "import torch.nn.functional as F\n",
        "\n",
        "# Math\n",
        "import numpy as np\n",
        "import matplotlib.pyplot as plt\n",
        "\n",
        "# Data storage/loading\n",
        "import os\n",
        "import pickle\n",
        "from google.colab import drive\n",
        "\n",
        "# Global Variables\n",
        "DRIVE_ROOT = '/content/drive'\n",
        "COLAB_ROOT = 'My Drive/Colab Notebooks'\n",
        "\n",
        "ROOT = os.path.join(*[ DRIVE_ROOT, COLAB_ROOT, 'Image-Segmentation' ])\n",
        "\n",
        "BACKGROUND_ID = -1  # TODO: actually determine a unique ID for 'background'\n",
        "MAX_LABELS = 16     # Maximum number of labels we will keep\n",
        "IN_CHANNELS = 4     # RGBD images have 4 channels\n",
        "IN_DIM = (530, 730) # Dimensions of RGBD images"
      ],
      "execution_count": 36,
      "outputs": []
    },
    {
      "cell_type": "code",
      "metadata": {
        "id": "EcuozbZN5ruV",
        "outputId": "8f84fd96-bf49-4b43-b539-79d2987dc61d",
        "colab": {
          "base_uri": "https://localhost:8080/"
        }
      },
      "source": [
        "# Link to Google Drive\n",
        "drive.mount(DRIVE_ROOT)"
      ],
      "execution_count": null,
      "outputs": [
        {
          "output_type": "stream",
          "text": [
            "Mounted at /content/drive\n"
          ],
          "name": "stdout"
        }
      ]
    },
    {
      "cell_type": "markdown",
      "metadata": {
        "id": "DETWb7mU-3_s"
      },
      "source": [
        "# Data Loading #"
      ]
    },
    {
      "cell_type": "code",
      "metadata": {
        "id": "ERXJz_dd9zKW"
      },
      "source": [
        "# Code for loading data"
      ],
      "execution_count": null,
      "outputs": []
    },
    {
      "cell_type": "markdown",
      "metadata": {
        "id": "d6dR-H5-_HeH"
      },
      "source": [
        "# Data Pre-processing #"
      ]
    },
    {
      "cell_type": "markdown",
      "metadata": {
        "id": "ypZeIW3NCP-O"
      },
      "source": [
        "## Pre-computing Features from other ML models ##\n",
        "\n",
        "We may have parts of the full ML pipeline implemented and others not. To speed up the training process, it is beneficial to precompute features resulting from a model and save them.\n",
        "\n",
        "**Note:** Features are saved in such a format that once re-loaded, they can be passed directly into a `DataLoader`."
      ]
    },
    {
      "cell_type": "code",
      "metadata": {
        "id": "4JYyF3N7_QMU"
      },
      "source": [
        "# Compute and Save Features from 'model'\n",
        "def save_features(model, data_loader, file_name, dir=ROOT, use_cuda=False):\n",
        "  features = []\n",
        "\n",
        "  for input, label in data_loader:\n",
        "    # Enable CUDA\n",
        "    if use_cuda and torch.cuda.is_available():\n",
        "      input = input.cuda()\n",
        "      label = label.cuda()\n",
        "    \n",
        "    # Compute features\n",
        "    with torch.no_grad():\n",
        "      output = model(input)\n",
        "\n",
        "    # Cache resulting features\n",
        "    features.extend(output.cpu())\n",
        "  \n",
        "  # Save computed features using pickle\n",
        "  save_path = os.path.join(dir, file_name + '.pickle')\n",
        "\n",
        "  with open(save_path, 'wb+') as f:\n",
        "    pickle.dump(features, f)"
      ],
      "execution_count": null,
      "outputs": []
    },
    {
      "cell_type": "code",
      "metadata": {
        "id": "AahfXgL2JUjB"
      },
      "source": [
        "# Load features\n",
        "def load_features(file_name, dir=ROOT):\n",
        "  file_path = os.join.path(dir, file_name + '.pickle')\n",
        "\n",
        "  # Load features using pickle\n",
        "  with open(file_path, 'rb') as f:\n",
        "    features = pickle.load(f)\n",
        "  \n",
        "  return features"
      ],
      "execution_count": null,
      "outputs": []
    },
    {
      "cell_type": "markdown",
      "metadata": {
        "id": "f_BM7bWJLnai"
      },
      "source": [
        "## Grouping Background Segments ##\n",
        "\n",
        "Our dataset has many labels for different categories. Since our goal is to segment non-background items that are *distinct*, we will pre-process the raw segmentation maps to group relevant labels/categories that could be considered as *background*.\n",
        "\n",
        "The following are grouped together: (Background)\n",
        "- `floor`\n",
        "- `wall`\n",
        "- `ceiling`\n",
        "- `window`"
      ]
    },
    {
      "cell_type": "code",
      "metadata": {
        "id": "3IaMKPLZMhul"
      },
      "source": [
        "# Group all 'background' segments into one category\n",
        "def group_background(seg_maps):\n",
        "  # ASSUME: seg_maps is a np.array with dimensions (num_samples x [image_dims])\n",
        "  # NOTE: this function modifies seg_maps itself!\n",
        "\n",
        "  relevant_labels = [ 'floor', 'wall', 'ceiling', 'window' ]\n",
        "  relevant_ids = [ 0, 1, 2, 3 ]  # TODO: get *actual* numerical IDs\n",
        "\n",
        "  # Retrieve indices (pixels) of relevant labels\n",
        "  indices = np.isin(seg_maps, relevant_ids)\n",
        "  \n",
        "  # Associate such indices (pixels) as 'background'\n",
        "  seg_maps[indices] = BACKGROUND_ID"
      ],
      "execution_count": null,
      "outputs": []
    },
    {
      "cell_type": "markdown",
      "metadata": {
        "id": "qYww3gwsOjee"
      },
      "source": [
        "## Dealing with Label Permutation and Number of Segments ##\n",
        "\n",
        "Our model will not particularly care what label is associated to segments, hence we prefer to refer to a segment by its segment ID. To re-iterate, our model does not care about what the value of the segment ID is for any given segment, what will dictate if our model is working if it can properly distinguish two **distinct** segments. Thus given an outputted segmentation map, any same segmentation map but with the segment IDs permutted is equally valid. Moreover, our model (in theory) should be invariant to more than permutation, that is any value can be assigned to a segment, as long as distinct segments have distinct IDs.\n",
        "\n",
        "Next, the number of segments depends generally on the number of objects in the scene, so it not known a priori for new samples. This suggests the use of a recurrent architecture but once again, the order in which the segments would be generated is not of importance. In general, dealing with a variable number of possible segments must be accounted for in the model!"
      ]
    },
    {
      "cell_type": "markdown",
      "metadata": {
        "id": "aeRLVFhHXEHF"
      },
      "source": [
        "### Ideas: ###"
      ]
    },
    {
      "cell_type": "markdown",
      "metadata": {
        "id": "x45JwzcmsEBy"
      },
      "source": [
        "- Use a permutation invariant loss function:https://openreview.net/pdf?id=rJxpuoCqtQ\n",
        "  - A major issue is that the number of segments produced for an image is not fixed, whereas this paper assumes the number of features `F` is known.\n",
        "  - Should we not upper bound the outputs and round each pixel value to the nearest integer as to define its *segment ID*? How sensitive to small weight variantions would our model be? How dependent on the segment ID values temselves will the model be?\n",
        "- Should we use a Recurrent Architecture?\n",
        "  - That is: for each image\n",
        "    1. extract the \"largest\" label\n",
        "    2. remove all pixels from input that correspond to the segment meant to be removed\n",
        "    3. feed in new image and repeat from step 1.\n",
        "  - Note that we will need to either pre-process many images during training (which will make it slow) or cache multiple variants of an image which remove one segment at a time (can grow large if image has many segments)\n",
        "    - Also need to pre-process and \"order\" segments by how \"big\" they are (need to compute pixel area of each segment and order them before making \"inputs\" that have the relevant segments removed)\n",
        "  - We could possibly apply a *Recurrent Pipeline* to our baseline model (k-means) too!\n",
        "- Say we generate all segments from the image in one-pass of the model (simple autoencoder architecture)\n",
        "  - How do we deal with segment ID permutations (and even just different IDs in general, as long as the correct distinct segments have distinct IDs)?\n",
        "  - How do we encode each segment ID?\n",
        "\n",
        "**KEY IDEA:** What if we followed the convention that the largest segment (other than the background) must have the largest (smallest?) ID? Could this additional rule be learned by the model?\n",
        "- If yes, then we resolved the issue of segment ID permutation\n",
        "  - What happens for segments of comparable size? (to think about later)\n",
        "- Could we then also apply *integer thresholding* (or some other thresholding) to identify each distinct segment? This would avoid the need to use a recurrent architecture"
      ]
    },
    {
      "cell_type": "markdown",
      "metadata": {
        "id": "9qAJq8-dgEWA"
      },
      "source": [
        "### Sorting Segments by Size ###\n",
        "\n",
        "To address the issues outlined above of the semantic associated with each segment's label and permutation (or the only necessary distinctness requirement) of each segment label, we will sort segments from largest to smallest. The following convention will be assumed and our hope is that the machine learning model can learn this rule:\n",
        "- Background ~ `label = 0`\n",
        "- Largest Segment ~ `label = 1`\n",
        "- Second Largest Segment ~ `label = 2`\n",
        "- `...`"
      ]
    },
    {
      "cell_type": "code",
      "metadata": {
        "id": "LpD8IzpjgTeb"
      },
      "source": [
        "# ASSUME: relevant labels have been grouped into BACKGROUND_ID\n",
        "def sort_segments_by_size(seg_map, max_labels=np.infty):\n",
        "  # Get list of segment labels found in the image\n",
        "  old_labels = np.unique(seg_map)\n",
        "\n",
        "  # Count the number of pixels for each segment\n",
        "  pixel_count = { label : 0 for label in old_labels }\n",
        "\n",
        "  for r in range(seg_map.shape[0]):\n",
        "    for c in range(seg_map.shape[1]):\n",
        "      pixel_count[seg_map[r,c]] += 1\n",
        "\n",
        "  # Special case: background must always have the largest pixel count as to\n",
        "  # enforce background label = 0\n",
        "  if BACKGROUND_ID in pixel_count:\n",
        "    pixel_count[BACKGROUND_ID] = np.infty\n",
        "  else:\n",
        "    print('No Background in Segmentation Map - Did you forget to pre-process?')\n",
        "  \n",
        "  # Sort by pixel count\n",
        "  sorted_labels = sorted(pixel_count, key=lambda label: pixel_count[label], reverse=True)\n",
        "\n",
        "  # Keep only the max_lables largest labels\n",
        "  sorted_labels = sorted_labels[:min(max_labels, len(sorted_labels))]\n",
        "  new_labels = { old_label: new_label for (new_label, old_label) in enumerate(sorted_labels) }\n",
        "  \n",
        "  # Create new segmentation map using new labels\n",
        "  sorted_seg_map = np.zeros(seg_map.shape)\n",
        "\n",
        "  for r in range(seg_map.shape[0]):\n",
        "    for c in range(seg_map.shape[1]):\n",
        "      sorted_seg_map[r,c] = new_labels[seg_map[r,c]]\n",
        "  \n",
        "  return sorted_seg_map"
      ],
      "execution_count": null,
      "outputs": []
    },
    {
      "cell_type": "code",
      "metadata": {
        "id": "GmCG2yRPlgMC",
        "outputId": "d2a2b540-4903-491e-d1a2-10e2d636aea4",
        "colab": {
          "base_uri": "https://localhost:8080/",
          "height": 314
        }
      },
      "source": [
        "# TEST\n",
        "seg_map = plt.imread(os.path.join(ROOT, 'Data/img-000007.png'))\n",
        "fig, axs = plt.subplots(2)\n",
        "\n",
        "# Plot input image (semantic labels)\n",
        "mappable = axs[0].imshow(seg_map, cmap='inferno')\n",
        "axs[0].set_title('Semantic Labels')\n",
        "axs[0].axis('off')\n",
        "fig.colorbar(mappable, ax=axs[0])\n",
        "\n",
        "sorted_map = sort_segments_by_size(seg_map)\n",
        "\n",
        "# Plot output image (labels by segment size)\n",
        "mappable = axs[1].imshow(sorted_map, cmap='inferno')\n",
        "axs[1].set_title('Labels by Segment Size')\n",
        "axs[1].axis('off')\n",
        "fig.colorbar(mappable, ax=axs[1]);\n",
        "\n",
        "plt.tight_layout()"
      ],
      "execution_count": null,
      "outputs": [
        {
          "output_type": "stream",
          "text": [
            "No Background in Segmentation Map - Did you forget to pre-process?\n"
          ],
          "name": "stdout"
        },
        {
          "output_type": "display_data",
          "data": {
            "image/png": "[encoded data removed]",
            "text/plain": [
              "<Figure size 432x288 with 4 Axes>"
            ]
          },
          "metadata": {
            "tags": [],
            "needs_background": "light"
          }
        }
      ]
    },
    {
      "cell_type": "markdown",
      "metadata": {
        "id": "-iEJJLIRPpqz"
      },
      "source": [
        "## Data Augmentation (Optional) ##\n",
        "\n",
        "See if we can apply homographies on RGBD + ground truth segmentation map and if we can add noise to the RGBD images."
      ]
    },
    {
      "cell_type": "code",
      "metadata": {
        "id": "VvnnX-ZvQisd"
      },
      "source": [
        "# Code for homographic transformation"
      ],
      "execution_count": null,
      "outputs": []
    },
    {
      "cell_type": "code",
      "metadata": {
        "id": "5Wubp1JkQnwY"
      },
      "source": [
        "# Code for adding noise to {RGB, Depth}"
      ],
      "execution_count": null,
      "outputs": []
    },
    {
      "cell_type": "markdown",
      "metadata": {
        "id": "yZSROAWI_TCY"
      },
      "source": [
        "# Baseline model: k-means Algorithm #"
      ]
    },
    {
      "cell_type": "code",
      "metadata": {
        "id": "j7E5TBh9_ZaX"
      },
      "source": [
        "# Code for k-means algorithm"
      ],
      "execution_count": null,
      "outputs": []
    },
    {
      "cell_type": "markdown",
      "metadata": {
        "id": "pdEVNEbg_gAU"
      },
      "source": [
        "# Training Pipeline #"
      ]
    },
    {
      "cell_type": "code",
      "metadata": {
        "id": "_lxwI7pS_o6L"
      },
      "source": [
        "# Code for the training pipeline"
      ],
      "execution_count": null,
      "outputs": []
    },
    {
      "cell_type": "markdown",
      "metadata": {
        "id": "-3fTj9-8YLPi"
      },
      "source": [
        "## Compute Accuracy ##\n",
        "\n",
        "Computes accuracy of a model given a `DataLoader`. Note that the notion of accuracy is not straightforward for tasks other than classification and thus must handled with care as we attempt to quantify how well our models perform!"
      ]
    },
    {
      "cell_type": "code",
      "metadata": {
        "id": "fds65CcmYVQb"
      },
      "source": [
        "def get_classifier_accuracy(model, data_loader, use_cuda=False):\n",
        "  correct, total = 0, 0\n",
        "\n",
        "  for inputs, targets in data_loader:\n",
        "    # Enable CUDA\n",
        "    if use_cuda and torch.cuda.is_available():\n",
        "      inputs = inputs.cuda()\n",
        "      targets = targets.cuda()\n",
        "    \n",
        "    # Compute prediction\n",
        "    outputs = model(inputs)\n",
        "    preds = outputs.max(1, keepdim=True)[1]\n",
        "\n",
        "    # Tally\n",
        "    correct += preds.eq(targets.view_as(preds)).sum().item()\n",
        "    total += inputs.size(0)\n",
        "  \n",
        "  return float(correct) / total"
      ],
      "execution_count": null,
      "outputs": []
    },
    {
      "cell_type": "markdown",
      "metadata": {
        "id": "kF3Mf3yQX-H1"
      },
      "source": [
        "## Train Models ##\n",
        "\n",
        "The training pipeline is rather consistent among feedforward classifier models. Functions for training will wrap extra desired functionality to accomodate model requirements.\n",
        "\n",
        "**TODO:** Wrap common iteration loops in a function, allowing customizations where needed (e.g. running a model through a data_loader is a very common process and we can pass in custom functions to extract relevant data, pre-process [add noise], optionally computing accuracy and such).\n",
        "\n",
        "**TODO:** Wrap plotting functions for training curves."
      ]
    },
    {
      "cell_type": "code",
      "metadata": {
        "id": "1kLyE4M9nJjP"
      },
      "source": [
        "# TODO: add model defined hyperparameters\n",
        "def model_path(model, batch_size, learning_rate, epoch, root=''):\n",
        "  path = 'model_{0}_bs{1}_lr{2}_epoch{3}'.format(model.name,\n",
        "                                                 batch_size,\n",
        "                                                 learning_rate,\n",
        "                                                 epoch)\n",
        "  return os.path.join(dir, path)"
      ],
      "execution_count": null,
      "outputs": []
    },
    {
      "cell_type": "code",
      "metadata": {
        "id": "M1paUfzUXIzd"
      },
      "source": [
        "def train_classifier(model, train_loader, val_loader, use_cuda=False, \n",
        "                     learning_rate=1e-3, num_epochs=20):\n",
        "  torch.manual_seed(1000)\n",
        "\n",
        "  # Optimization settings\n",
        "  criterion = nn.CrossEntropyLoss()\n",
        "  optimizer = optim.Adam(model.parameters(), lr=learning_rate)\n",
        "\n",
        "  # Cache loss/accuracy\n",
        "  train_loss, val_loss = [], []\n",
        "  train_acc, val_acc = [], []\n",
        "\n",
        "  print('Training Start!')\n",
        "\n",
        "  for epoch in range(num_epochs):\n",
        "    ### TRAIN model ###\n",
        "    running_loss = 0\n",
        "\n",
        "    for inputs, targets in train_loader:\n",
        "      # Enable CUDA\n",
        "      if use_cuda and torch.cuda.is_available():\n",
        "        inputs = inputs.cuda()\n",
        "        targets = targets.cuda()\n",
        "      \n",
        "      # Forward pass\n",
        "      outputs = model(inputs)\n",
        "      loss = criterion(outputs, targets)\n",
        "\n",
        "      # Backward pass\n",
        "      loss.backward()\n",
        "      optimizer.step()\n",
        "      optimizer.zero_grad()\n",
        "\n",
        "      # Update running loss\n",
        "      running_loss += loss.item() * inputs.size(0)\n",
        "    \n",
        "    train_loss.append(running_loss / len(train_loader.dataset))\n",
        "\n",
        "    ### Compute VALIDATION loss ###\n",
        "    running_loss = 0\n",
        "\n",
        "    for inputs, targets in val_loader:\n",
        "      # Enable CUDA\n",
        "      if use_cuda and torch.cuda.is_available():\n",
        "        inputs = inputs.cuda()\n",
        "        targets = targets.cuda()\n",
        "      \n",
        "      # Forward pass\n",
        "      with torch.no_grad():\n",
        "        outputs = model(inputs)\n",
        "      loss = criterion(outputs, targets)\n",
        "\n",
        "      # Update running loss\n",
        "      running_loss += loss.item() * inputs.size(0)\n",
        "    \n",
        "    val_loss.append(running_loss / len(val_loader.dataset))\n",
        "\n",
        "    # Compute accuracy\n",
        "    train_acc.append(get_classifier_accuracy(model, train_loader, use_cuda))\n",
        "    val_acc.append(get_classifier_accuracy(model, val_loader, use_cuda))\n",
        "\n",
        "    print('Epoch {} (accuracy): {} train, {} val'.format(epoch, train_acc[-1], val_acc[-1]))\n",
        "\n",
        "    # Checkpoint model\n",
        "    # Q: do we want to save checkpoints to our Drive?\n",
        "    path = model_path(model, train_loader.batch_size, learning_rate, epoch)\n",
        "    torch.save(model.state_dict(), path)\n",
        "\n",
        "  ### Plot Training Curves ###\n",
        "  fig, axs = plt.subplots(2)\n",
        "\n",
        "  # Loss\n",
        "  axs[0].plot(train_loss)\n",
        "  axs[0].plot(val_loss)\n",
        "\n",
        "  axs[0].legend(('Train', 'Validation'))\n",
        "  axs[0].set_title('Train / Validation Loss')\n",
        "  axs[0].set(xlabel='Epochs', ylabel='Loss')\n",
        "\n",
        "  # Accuracy\n",
        "  axs[1].plot(train_acc)\n",
        "  axs[1].plot(val_acc)\n",
        "\n",
        "  axs[1].legend(('Train', 'Validation'))\n",
        "  axs[1].set_title('Train / Validation Accuracy')\n",
        "  axs[1].set(xlabel='Epochs', ylabel='Accuracy')\n",
        "\n",
        "  plt.tight_layout()"
      ],
      "execution_count": null,
      "outputs": []
    },
    {
      "cell_type": "markdown",
      "metadata": {
        "id": "6XAE6r2qqVCF"
      },
      "source": [
        "Autoencoders have a slightly different pipeline and can be adjusted to improve robustness."
      ]
    },
    {
      "cell_type": "code",
      "metadata": {
        "id": "3EXJYtZLqhFf"
      },
      "source": [
        "# Train AutoEncoder that produces Segmentation Maps\n",
        "# NOTE: Each pixel of the Segmentation Map is a one-hot encoding\n",
        "def train_autoencoder(model, train_loader, val_loader, use_cuda=False, \n",
        "                     learning_rate=1e-3, num_epochs=20):\n",
        "  torch.manual_seed(1000)\n",
        "\n",
        "  # Optimization settings\n",
        "  criterion = nn.CrossEntropyLoss()\n",
        "  optimizer = optim.Adam(model.parameters(), lr=learning_rate)\n",
        "\n",
        "  # Cache loss\n",
        "  # TODO: add accuracy\n",
        "  train_loss, val_loss = [], []\n",
        "\n",
        "  print('Training Start!')\n",
        "\n",
        "  for epoch in range(num_epochs):\n",
        "    ### TRAIN model ###\n",
        "    running_loss = 0\n",
        "\n",
        "    for inputs, _ in train_loader:\n",
        "      # TODO: enable input pre-processing (e.g. add noise)\n",
        "      # Enable CUDA\n",
        "      if use_cuda and torch.cuda.is_available():\n",
        "        inputs = inputs.cuda()\n",
        "      \n",
        "      # Forward pass\n",
        "      outputs = model(inputs)\n",
        "      loss = criterion(outputs.view(-1, MAX_LABELS), inputs.view(-1,1).squeeze())\n",
        "\n",
        "      # Backward pass\n",
        "      loss.backward()\n",
        "      optimizer.step()\n",
        "      optimizer.zero_grad()\n",
        "\n",
        "      # Update running loss\n",
        "      running_loss += loss.item() * inputs.size(0)\n",
        "    \n",
        "    train_loss.append(running_loss / len(train_loader.dataset))\n",
        "\n",
        "    ### Compute VALIDATION loss ###\n",
        "    running_loss = 0\n",
        "\n",
        "    for inputs, _ in val_loader:\n",
        "      # TODO: enable input pre-processing (e.g. add noise)\n",
        "      # Enable CUDA\n",
        "      if use_cuda and torch.cuda.is_available():\n",
        "        inputs = inputs.cuda()\n",
        "      \n",
        "      # Forward pass\n",
        "      with torch.no_grad():\n",
        "        outputs = model(inputs)\n",
        "      loss = criterion(outputs.view(-1, MAX_LABELS), inputs.view(-1,1).squeeze())\n",
        "\n",
        "      # Update running loss\n",
        "      running_loss += loss.item() * inputs.size(0)\n",
        "    \n",
        "    val_loss.append(running_loss / len(val_loader.dataset))\n",
        "\n",
        "    print('Epoch {} (loss): {} train, {} val'.format(epoch, train_loss[-1], val_loss[-1]))\n",
        "\n",
        "    # Checkpoint model\n",
        "    # Q: do we want to save checkpoints to our Drive?\n",
        "    path = model_path(model, train_loader.batch_size, learning_rate, epoch)\n",
        "    torch.save(model.state_dict(), path)\n",
        "\n",
        "  ### Plot Training Curves ###\n",
        "  plt.plot(train_loss)\n",
        "  plt.plot(val_loss)\n",
        "\n",
        "  plt.legend(('Train', 'Validation'))\n",
        "  plt.title('Train / Validation Loss')\n",
        "  \n",
        "  plt.xlabel('Epochs')\n",
        "  plt.ylabel('Loss')"
      ],
      "execution_count": 83,
      "outputs": []
    },
    {
      "cell_type": "markdown",
      "metadata": {
        "id": "lzbiJDXb_tya"
      },
      "source": [
        "# Model Implementation #"
      ]
    },
    {
      "cell_type": "markdown",
      "metadata": {
        "id": "Xdaj_g1x4TaD"
      },
      "source": [
        "## Construct Segmentation Maps using a Convolutional Autoencoder ##\n",
        "\n",
        "This model is not strictly a convolutional autoencoder, since we will compare our reconstructed output to the corresponding segmentation map and not the input RGBD image.\n",
        "\n",
        "**NOTE:**\n",
        "- Input size is `(4, 530, 730)`\n",
        "- Output size is `(MAX_LABELS, 530, 730)`"
      ]
    },
    {
      "cell_type": "code",
      "metadata": {
        "id": "Sw0p3imN_CVT"
      },
      "source": [
        "### Helper Functions ###\n",
        "\n",
        "# Ensures a Convolution Layer is fully specified\n",
        "def get_conv_dict(in_channels, out_channels, kernel_size, stride=1, padding=0):\n",
        "  conv_dict = {\n",
        "      'i': in_channels,\n",
        "      'o': out_channels,\n",
        "      'k': kernel_size,\n",
        "      's': stride,\n",
        "      'p': padding\n",
        "  }\n",
        "  return conv_dict\n",
        "\n",
        "# Ensures a Transpose Convolution Layer is fully specified\n",
        "def get_convT_dict(in_channels, out_channels, kernel_size, stride=1, padding=0, output_padding=0):\n",
        "  convT_dict = {\n",
        "      'i': in_channels,\n",
        "      'o': out_channels,\n",
        "      'k': kernel_size,\n",
        "      's': stride,\n",
        "      'p': padding,\n",
        "      'op': output_padding\n",
        "  }\n",
        "  return convT_dict\n",
        "\n",
        "# Given input/output and conv layers, compute transpose conv layers\n",
        "def get_convT_layers(conv_layers, image_size=IN_DIM, output_channels=MAX_LABELS, print_Fmaps=False):\n",
        "  # Cache the size / dimension (w x h) of each intermediate feature map\n",
        "  fmaps = [ image_size ]\n",
        "\n",
        "  # Compute feature map dimensions after each convolutional layer\n",
        "  for layer in conv_layers:\n",
        "    w_in, h_in = fmaps[-1]\n",
        "    \n",
        "    w_out = (w_in + 2 * layer['p'] - layer['k']) // layer['s'] + 1\n",
        "    h_out = (h_in + 2 * layer['p'] - layer['k']) // layer['s'] + 1\n",
        "\n",
        "    fmaps.append((w_out, h_out))\n",
        "  \n",
        "  if print_Fmaps:\n",
        "    print('Feature Maps (w,h):', fmaps)\n",
        "  \n",
        "  # Reverse lists for decoding\n",
        "  rev_fmaps = list(reversed(fmaps))\n",
        "  rev_conv_layers = list(reversed(conv_layers))\n",
        "\n",
        "  # Determine appropriate transpose convolution layers\n",
        "  convT_layers = []\n",
        "\n",
        "  for idx in range(len(rev_conv_layers)):\n",
        "    # Get relevant parameters\n",
        "    layer = rev_conv_layers[idx]\n",
        "\n",
        "    fmap_in = rev_fmaps[idx]\n",
        "    fmap_out = rev_fmaps[idx + 1]\n",
        "\n",
        "    w_in, h_in = fmap_in\n",
        "    w_out, h_out = fmap_out\n",
        "\n",
        "    # Compute required output padding\n",
        "    w_pout = w_out - layer['s'] * (w_in - 1) + 2 * layer['p'] - layer['k']\n",
        "    h_pout = h_out - layer['s'] * (h_in - 1) + 2 * layer['p'] - layer['k']\n",
        "\n",
        "    # Append associated transpose convolutional layer\n",
        "    convT_layers.append(get_convT_dict(in_channels=layer['o'], out_channels=layer['i'],\n",
        "                                       kernel_size=layer['k'], stride=layer['s'], \n",
        "                                       padding=layer['p'], output_padding=(w_pout, h_pout)))\n",
        "  \n",
        "  # Ensure last layer outputs specified number of channels\n",
        "  convT_layers[-1]['o'] = output_channels\n",
        "\n",
        "  return convT_layers"
      ],
      "execution_count": 39,
      "outputs": []
    },
    {
      "cell_type": "code",
      "metadata": {
        "id": "R14JUk6S_xmJ"
      },
      "source": [
        "### Encoder (RBGD --> Embedding) ###\n",
        "\n",
        "class ConvE(nn.Module):\n",
        "  def __init__(self, conv_layers):\n",
        "    super(ConvE, self).__init__()\n",
        "    self.name = 'convE'\n",
        "    self.layers = []\n",
        "\n",
        "    # Create Architecture\n",
        "    for layer in conv_layers:\n",
        "      self.layers.append(nn.Conv2d(in_channels=layer['i'], out_channels=layer['o'],\n",
        "                                   kernel_size=layer['k'], stride=layer['s'], \n",
        "                                   padding=layer['p']))\n",
        "\n",
        "  def forward(self, x):\n",
        "    for layer in self.layers:\n",
        "      x = F.relu(layer(x))\n",
        "\n",
        "    return x\n",
        "\n",
        "### Decoder (Embedding --> MAX_LABELS one-hot encoding per pixel of RGBD) ###\n",
        "\n",
        "class ConvD(nn.Module):\n",
        "  def __init__(self, convT_layers):\n",
        "    super(ConvD, self).__init__()\n",
        "    self.name = 'convD'\n",
        "    self.layers = []\n",
        "\n",
        "    for layer in convT_layers:\n",
        "      self.layers.append(nn.ConvTranspose2d(in_channels=layer['i'], out_channels=layer['o'],\n",
        "                                            kernel_size=layer['k'], stride=layer['s'],\n",
        "                                            padding=layer['p'], output_padding=layer['op']))\n",
        "\n",
        "  def forward(self, x):\n",
        "    # Do not apply ReLU on last layer\n",
        "    for layer in self.layers[:-1]:\n",
        "      x = F.relu(layer(x))\n",
        "\n",
        "    # NOTE: assume will use BCEWithLogitsLoss (do not apply sigmoid)\n",
        "    return self.layers[-1](x)\n",
        "\n",
        "### Convolutional \"Autoencoder\" ###\n",
        "\n",
        "class ConvAE(nn.Module):\n",
        "  def __init__(self, conv_layers, image_size=IN_DIM, out_channels=MAX_LABELS):\n",
        "    super(ConvAE, self).__init__()\n",
        "    self.name = 'convAE'\n",
        "\n",
        "    # Create Encoder\n",
        "    self.encoder = ConvE(conv_layers)\n",
        "\n",
        "    # Create Decoder\n",
        "    convT_layers = get_convT_layers(conv_layers, image_size=image_size, output_channels=out_channels)\n",
        "    self.decoder = ConvD(convT_layers)\n",
        "  \n",
        "  def forward(self, x):\n",
        "    x = self.encoder(x)\n",
        "    x = self.decoder(x)\n",
        "\n",
        "    return x"
      ],
      "execution_count": 45,
      "outputs": []
    },
    {
      "cell_type": "code",
      "metadata": {
        "id": "sWRvEQcgLas0",
        "outputId": "cdcedd8b-9e16-49ed-9ad1-b2634fa42f6d",
        "colab": {
          "base_uri": "https://localhost:8080/"
        }
      },
      "source": [
        "# TEST\n",
        "# NOTE: make sure N(i)_in == N(i-1)_out (# Channels Agree)\n",
        "encoder_architecture = [ get_conv_dict(IN_CHANNELS, 6, 8), \n",
        "                         get_conv_dict(6, 10, 4, 2),\n",
        "                         get_conv_dict(10, 12, 6) ]\n",
        "print('ENCODER')\n",
        "print(encoder_architecture)\n",
        "\n",
        "decoder_architecture = get_convT_layers(encoder_architecture, print_Fmaps=True)\n",
        "\n",
        "print('DECODER')\n",
        "print(decoder_architecture)\n",
        "\n",
        "convAE = ConvAE(encoder_architecture)"
      ],
      "execution_count": 46,
      "outputs": [
        {
          "output_type": "stream",
          "text": [
            "ENCODER\n",
            "[{'i': 4, 'o': 6, 'k': 8, 's': 1, 'p': 0}, {'i': 6, 'o': 10, 'k': 4, 's': 2, 'p': 0}, {'i': 10, 'o': 12, 'k': 6, 's': 1, 'p': 0}]\n",
            "Feature Maps (w,h): [(530, 730), (523, 723), (260, 360), (255, 355)]\n",
            "DECODER\n",
            "[{'i': 12, 'o': 10, 'k': 6, 's': 1, 'p': 0, 'op': (0, 0)}, {'i': 10, 'o': 6, 'k': 4, 's': 2, 'p': 0, 'op': (1, 1)}, {'i': 6, 'o': 16, 'k': 8, 's': 1, 'p': 0, 'op': (0, 0)}]\n"
          ],
          "name": "stdout"
        }
      ]
    }
  ]
}