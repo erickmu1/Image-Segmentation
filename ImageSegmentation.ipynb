{
  "nbformat": 4,
  "nbformat_minor": 0,
  "metadata": {
    "colab": {
      "name": "ImageSegmentation.ipynb",
      "provenance": [],
      "authorship_tag": "ABX9TyOUPoYHo5wcgsVXfIfcVDuD",
      "include_colab_link": true
    },
    "kernelspec": {
      "name": "python3",
      "display_name": "Python 3"
    }
  },
  "cells": [
    {
      "cell_type": "markdown",
      "metadata": {
        "id": "view-in-github",
        "colab_type": "text"
      },
      "source": [
        "<a href=\"https://colab.research.google.com/github/erickmu1/Image-Segmentation/blob/main/ImageSegmentation.ipynb\" target=\"_parent\"><img src=\"https://colab.research.google.com/assets/colab-badge.svg\" alt=\"Open In Colab\"/></a>"
      ]
    },
    {
      "cell_type": "markdown",
      "metadata": {
        "id": "V5Fje7Mu90f2"
      },
      "source": [
        "# APS360: Image Segmentation #\n",
        "\n",
        "### **Team 5** ###\n",
        "- Bonnie He\n",
        "- Erick Mejia Uzeda\n",
        "- Hannah Lee\n",
        "\n",
        "## Project Description ##\n",
        "\n",
        "TODO"
      ]
    },
    {
      "cell_type": "markdown",
      "metadata": {
        "id": "DETWb7mU-3_s"
      },
      "source": [
        "# Data Loading #"
      ]
    },
    {
      "cell_type": "code",
      "metadata": {
        "id": "ERXJz_dd9zKW"
      },
      "source": [
        "# Code for loading data"
      ],
      "execution_count": null,
      "outputs": []
    },
    {
      "cell_type": "markdown",
      "metadata": {
        "id": "d6dR-H5-_HeH"
      },
      "source": [
        "# Data Pre-processing #"
      ]
    },
    {
      "cell_type": "code",
      "metadata": {
        "id": "4JYyF3N7_QMU"
      },
      "source": [
        "# Code for pre-processing data"
      ],
      "execution_count": null,
      "outputs": []
    },
    {
      "cell_type": "markdown",
      "metadata": {
        "id": "yZSROAWI_TCY"
      },
      "source": [
        "# Baseline model: k-means Algorithm #"
      ]
    },
    {
      "cell_type": "code",
      "metadata": {
        "id": "j7E5TBh9_ZaX"
      },
      "source": [
        "# Code for k-means algorithm"
      ],
      "execution_count": null,
      "outputs": []
    },
    {
      "cell_type": "markdown",
      "metadata": {
        "id": "pdEVNEbg_gAU"
      },
      "source": [
        "# Training Pipeline #"
      ]
    },
    {
      "cell_type": "code",
      "metadata": {
        "id": "_lxwI7pS_o6L"
      },
      "source": [
        "# Code for the training pipeline"
      ],
      "execution_count": null,
      "outputs": []
    },
    {
      "cell_type": "markdown",
      "metadata": {
        "id": "lzbiJDXb_tya"
      },
      "source": [
        "# Model Implementation #"
      ]
    },
    {
      "cell_type": "code",
      "metadata": {
        "id": "R14JUk6S_xmJ"
      },
      "source": [
        "# Code for implementing the propsed model"
      ],
      "execution_count": null,
      "outputs": []
    }
  ]
}