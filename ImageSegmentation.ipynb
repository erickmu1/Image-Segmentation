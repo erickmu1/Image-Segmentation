{
  "nbformat": 4,
  "nbformat_minor": 0,
  "metadata": {
    "colab": {
      "name": "ImageSegmentation.ipynb",
      "provenance": [],
      "collapsed_sections": [
        "DETWb7mU-3_s",
        "d6dR-H5-_HeH",
        "ypZeIW3NCP-O",
        "f_BM7bWJLnai",
        "qYww3gwsOjee",
        "-iEJJLIRPpqz",
        "yZSROAWI_TCY"
      ],
      "include_colab_link": true
    },
    "kernelspec": {
      "name": "python3",
      "display_name": "Python 3"
    }
  },
  "cells": [
    {
      "cell_type": "markdown",
      "metadata": {
        "id": "view-in-github",
        "colab_type": "text"
      },
      "source": [
        "<a href=\"https://colab.research.google.com/github/erickmu1/Image-Segmentation/blob/E/ImageSegmentation.ipynb\" target=\"_parent\"><img src=\"https://colab.research.google.com/assets/colab-badge.svg\" alt=\"Open In Colab\"/></a>"
      ]
    },
    {
      "cell_type": "markdown",
      "metadata": {
        "id": "V5Fje7Mu90f2"
      },
      "source": [
        "# APS360: Image Segmentation #\n",
        "\n",
        "### **Team 5** ###\n",
        "- Bonnie He\n",
        "- Erick Mejia Uzeda\n",
        "- Hannah Lee\n",
        "\n",
        "## Project Description ##\n",
        "\n",
        "TODO"
      ]
    },
    {
      "cell_type": "markdown",
      "metadata": {
        "id": "Elu3WwbW9uAf"
      },
      "source": [
        "# Imports + Global Variables #\n",
        "\n",
        "Here we import all required libraries and define any useful variables."
      ]
    },
    {
      "cell_type": "code",
      "metadata": {
        "id": "wWjctfdF9y8z"
      },
      "source": [
        "# Pytorch\n",
        "import torch\n",
        "import torch.nn as nn\n",
        "import torch.optim as optim\n",
        "\n",
        "# Math\n",
        "import numpy as np\n",
        "import matplotlib.pyplot as plt\n",
        "\n",
        "# Data storage/loading\n",
        "import os\n",
        "import pickle\n",
        "from google.colab import drive\n",
        "\n",
        "# Global Variables\n",
        "DRIVE_ROOT = '/content/drive'\n",
        "COLAB_ROOT = 'My Drive/Colab Notebooks'\n",
        "\n",
        "ROOT = os.path.join(*[ DRIVE_ROOT, COLAB_ROOT, 'Image-Segmentation' ])\n",
        "\n",
        "BACKGROUND_ID = 0 # TODO: actually determine a unique ID for 'background'"
      ],
      "execution_count": 8,
      "outputs": []
    },
    {
      "cell_type": "code",
      "metadata": {
        "id": "EcuozbZN5ruV",
        "outputId": "d5a9c1c4-6554-45c5-d98f-e73827f294b4",
        "colab": {
          "base_uri": "https://localhost:8080/"
        }
      },
      "source": [
        "# Link to Google Drive\n",
        "drive.mount(DRIVE_ROOT)"
      ],
      "execution_count": null,
      "outputs": [
        {
          "output_type": "stream",
          "text": [
            "Mounted at /content/drive\n"
          ],
          "name": "stdout"
        }
      ]
    },
    {
      "cell_type": "markdown",
      "metadata": {
        "id": "DETWb7mU-3_s"
      },
      "source": [
        "# Data Loading #"
      ]
    },
    {
      "cell_type": "code",
      "metadata": {
        "id": "ERXJz_dd9zKW"
      },
      "source": [
        "# Code for loading data"
      ],
      "execution_count": null,
      "outputs": []
    },
    {
      "cell_type": "markdown",
      "metadata": {
        "id": "d6dR-H5-_HeH"
      },
      "source": [
        "# Data Pre-processing #"
      ]
    },
    {
      "cell_type": "markdown",
      "metadata": {
        "id": "ypZeIW3NCP-O"
      },
      "source": [
        "## Pre-computing Features from other ML models ##\n",
        "\n",
        "We may have parts of the full ML pipeline implemented and others not. To speed up the training process, it is beneficial to precompute features resulting from a model and save them.\n",
        "\n",
        "**Note:** Features are saved in such a format that once re-loaded, they can be passed directly into a `DataLoader`."
      ]
    },
    {
      "cell_type": "code",
      "metadata": {
        "id": "4JYyF3N7_QMU"
      },
      "source": [
        "# Compute and Save Features from 'model'\n",
        "def save_features(model, data_loader, file_name, dir=ROOT, use_cuda=False):\n",
        "  features = []\n",
        "\n",
        "  for input, label in data_loader:\n",
        "    # Enable CUDA\n",
        "    if use_cuda and torch.cuda.is_available():\n",
        "      input = input.cuda()\n",
        "      label = label.cuda()\n",
        "    \n",
        "    # Compute features\n",
        "    with torch.no_grad():\n",
        "      output = model(input)\n",
        "\n",
        "    # Cache resulting features\n",
        "    features.extend(output.cpu())\n",
        "  \n",
        "  # Save computed features using pickle\n",
        "  save_path = os.path.join(dir, file_name + '.pickle')\n",
        "\n",
        "  with open(save_path, 'wb+') as f:\n",
        "    pickle.dump(features, f)"
      ],
      "execution_count": null,
      "outputs": []
    },
    {
      "cell_type": "code",
      "metadata": {
        "id": "AahfXgL2JUjB"
      },
      "source": [
        "# Load features\n",
        "def load_features(file_name, dir=ROOT):\n",
        "  file_path = os.join.path(dir, file_name + '.pickle')\n",
        "\n",
        "  # Load features using pickle\n",
        "  with open(file_path, 'rb') as f:\n",
        "    features = pickle.load(f)\n",
        "  \n",
        "  return features"
      ],
      "execution_count": null,
      "outputs": []
    },
    {
      "cell_type": "markdown",
      "metadata": {
        "id": "f_BM7bWJLnai"
      },
      "source": [
        "## Grouping Background Segments ##\n",
        "\n",
        "Our dataset has many labels for different categories. Since our goal is to segment non-background items that are *distinct*, we will pre-process the raw segmentation maps to group relevant labels/categories that could be considered as *background*.\n",
        "\n",
        "The following are grouped together: (Background)\n",
        "- `floor`\n",
        "- `wall`\n",
        "- `ceiling`\n",
        "- `window`"
      ]
    },
    {
      "cell_type": "code",
      "metadata": {
        "id": "3IaMKPLZMhul"
      },
      "source": [
        "# Group all 'background' segments into one category\n",
        "def group_background(seg_maps):\n",
        "  # ASSUME: seg_maps is a np.array with dimensions (num_samples x [image_dims])\n",
        "  # NOTE: this function modifies seg_maps itself!\n",
        "\n",
        "  relevant_labels = [ 'floor', 'wall', 'ceiling', 'window' ]\n",
        "  relevant_ids = [ 0, 1, 2, 3 ]  # TODO: get *actual* numerical IDs\n",
        "\n",
        "  # Retrieve indices (pixels) of relevant labels\n",
        "  indices = np.isin(seg_maps, relevant_ids)\n",
        "  \n",
        "  # Associate such indices (pixels) as 'background'\n",
        "  seg_maps[indices] = BACKGROUND_ID"
      ],
      "execution_count": null,
      "outputs": []
    },
    {
      "cell_type": "markdown",
      "metadata": {
        "id": "qYww3gwsOjee"
      },
      "source": [
        "## Dealing with Label Permutation and Number of Segments ##\n",
        "\n",
        "Our model will not particularly care what label is associated to segments, hence we prefer to refer to a segment by its segment ID. To re-iterate, our model does not care about what the value of the segment ID is for any given segment, what will dictate if our model is working if it can properly distinguish two **distinct** segments. Thus given an outputted segmentation map, any same segmentation map but with the segment IDs permutted is equally valid. Moreover, our model (in theory) should be invariant to more than permutation, that is any value can be assigned to a segment, as long as distinct segments have distinct IDs.\n",
        "\n",
        "Next, the number of segments depends generally on the number of objects in the scene, so it not known a priori for new samples. This suggests the use of a recurrent architecture but once again, the order in which the segments would be generated is not of importance. In general, dealing with a variable number of possible segments must be accounted for in the model!"
      ]
    },
    {
      "cell_type": "markdown",
      "metadata": {
        "id": "aeRLVFhHXEHF"
      },
      "source": [
        "Ideas:\n",
        "- Use a permutation invariant loss function:https://openreview.net/pdf?id=rJxpuoCqtQ\n",
        "  - A major issue is that the number of segments produced for an image is not fixed, whereas this paper assumes the number of features `F` is known.\n",
        "  - Should we not upper bound the outputs and round each pixel value to the nearest integer as to define its *segment ID*? How sensitive to small weight variantions would our model be? How dependent on the segment ID values temselves will the model be?\n",
        "- Should we use a Recurrent Architecture?\n",
        "  - That is: for each image\n",
        "    1. extract the \"largest\" label\n",
        "    2. remove all pixels from input that correspond to the segment meant to be removed\n",
        "    3. feed in new image and repeat from step 1.\n",
        "  - Note that we will need to either pre-process many images during training (which will make it slow) or cache multiple variants of an image which remove one segment at a time (can grow large if image has many segments)\n",
        "    - Also need to pre-process and \"order\" segments by how \"big\" they are (need to compute pixel area of each segment and order them before making \"inputs\" that have the relevant segments removed)\n",
        "  - We could possibly apply a *Recurrent Pipeline* to our baseline model (k-means) too!\n",
        "- Say we generate all segments from the image in one-pass of the model (simple autoencoder architecture)\n",
        "  - How do we deal with segment ID permutations (and even just different IDs in general, as long as the correct distinct segments have distinct IDs)?\n",
        "  - How do we encode each segment ID?\n",
        "\n",
        "**KEY IDEA:** What if we followed the convention that the largest segment (other than the background) must have the largest (smallest?) ID? Could this additional rule be learned by the model?\n",
        "- If yes, then we resolved the issue of segment ID permutation\n",
        "  - What happens for segments of comparable size? (to think about later)\n",
        "- Could we then also apply *integer thresholding* (or some other thresholding) to identify each distinct segment? This would avoid the need to use a recurrent architecture"
      ]
    },
    {
      "cell_type": "code",
      "metadata": {
        "id": "0yq65r9pPqPM"
      },
      "source": [
        "# Code (if any) for pre-processing dataset to account for segment ID permutation"
      ],
      "execution_count": null,
      "outputs": []
    },
    {
      "cell_type": "markdown",
      "metadata": {
        "id": "-iEJJLIRPpqz"
      },
      "source": [
        "## Data Augmentation (Optional) ##\n",
        "\n",
        "See if we can apply homographies on RGBD + ground truth segmentation map and if we can add noise to the RGBD images."
      ]
    },
    {
      "cell_type": "code",
      "metadata": {
        "id": "VvnnX-ZvQisd"
      },
      "source": [
        "# Code for homographic transformation"
      ],
      "execution_count": null,
      "outputs": []
    },
    {
      "cell_type": "code",
      "metadata": {
        "id": "5Wubp1JkQnwY"
      },
      "source": [
        "# Code for adding noise to {RGB, Depth}"
      ],
      "execution_count": null,
      "outputs": []
    },
    {
      "cell_type": "markdown",
      "metadata": {
        "id": "yZSROAWI_TCY"
      },
      "source": [
        "# Baseline model: k-means Algorithm #"
      ]
    },
    {
      "cell_type": "code",
      "metadata": {
        "id": "j7E5TBh9_ZaX"
      },
      "source": [
        "# Code for k-means algorithm"
      ],
      "execution_count": null,
      "outputs": []
    },
    {
      "cell_type": "markdown",
      "metadata": {
        "id": "pdEVNEbg_gAU"
      },
      "source": [
        "# Training Pipeline #"
      ]
    },
    {
      "cell_type": "code",
      "metadata": {
        "id": "_lxwI7pS_o6L"
      },
      "source": [
        "# Code for the training pipeline"
      ],
      "execution_count": null,
      "outputs": []
    },
    {
      "cell_type": "markdown",
      "metadata": {
        "id": "-3fTj9-8YLPi"
      },
      "source": [
        "## Compute Accuracy ##\n",
        "\n",
        "Computes accuracy of a model given a `DataLoader`. Note that the notion of accuracy is not straightforward for tasks other than classification and thus must handled with care as we attempt to quantify how well our models perform!"
      ]
    },
    {
      "cell_type": "code",
      "metadata": {
        "id": "fds65CcmYVQb"
      },
      "source": [
        "def get_classifier_accuracy(model, data_loader, use_cuda=False):\n",
        "  correct, total = 0, 0\n",
        "\n",
        "  for inputs, targets in data_loader:\n",
        "    # Enable CUDA\n",
        "    if use_cuda and torch.cuda.is_available():\n",
        "      inputs = inputs.cuda()\n",
        "      targets = targets.cuda()\n",
        "    \n",
        "    # Compute prediction\n",
        "    outputs = model(inputs)\n",
        "    preds = outputs.max(1, keepdim=True)[1]\n",
        "\n",
        "    # Tally\n",
        "    correct += preds.eq(targets.view_as(preds)).sum().item()\n",
        "    total += inputs.size(0)\n",
        "  \n",
        "  return float(correct) / total"
      ],
      "execution_count": 11,
      "outputs": []
    },
    {
      "cell_type": "markdown",
      "metadata": {
        "id": "kF3Mf3yQX-H1"
      },
      "source": [
        "## Train Models ##\n",
        "\n",
        "The training pipeline is rather consistent among feedforward classifier models. Functions for training will wrap extra desired functionality to accomodate model requirements."
      ]
    },
    {
      "cell_type": "code",
      "metadata": {
        "id": "1kLyE4M9nJjP"
      },
      "source": [
        "# TODO: add model defined hyperparameters\n",
        "def model_path(model, batch_size, learning_rate, epoch, root=''):\n",
        "  path = 'model_{0}_bs{1}_lr{2}_epoch{3}'.format(model.name,\n",
        "                                                 batch_size,\n",
        "                                                 learning_rate,\n",
        "                                                 epoch)\n",
        "  return os.path.join(dir, path)"
      ],
      "execution_count": null,
      "outputs": []
    },
    {
      "cell_type": "code",
      "metadata": {
        "id": "M1paUfzUXIzd"
      },
      "source": [
        "def train_classifier(model, train_loader, val_loader, use_cuda=False, \n",
        "                     learning_rate=1e-3, num_epochs=20):\n",
        "  torch.manual_seed(1000)\n",
        "\n",
        "  # Optimization settings\n",
        "  criterion = nn.CrossEntropyLoss()\n",
        "  optimizer = optim.Adam(model.parameters(), lr=learning_rate)\n",
        "\n",
        "  # Cache loss/accuracy\n",
        "  train_loss, val_loss = [], []\n",
        "  train_acc, val_acc = [], []\n",
        "\n",
        "  print('Training Start!')\n",
        "\n",
        "  for epoch in range(num_epochs):\n",
        "    ### TRAIN model ###\n",
        "    running_loss = 0\n",
        "\n",
        "    for inputs, targets in train_loader:\n",
        "      # Enable CUDA\n",
        "      if use_cuda and torch.cuda.is_available():\n",
        "        inputs = inputs.cuda()\n",
        "        targets = targets.cuda()\n",
        "      \n",
        "      # Forward pass\n",
        "      outputs = model(inputs)\n",
        "      loss = criterion(outputs, targets)\n",
        "\n",
        "      # Backward pass\n",
        "      loss.backward()\n",
        "      optimizer.step()\n",
        "      optimizer.zero_grad()\n",
        "\n",
        "      # Update running loss\n",
        "      running_loss += loss.item() * inputs.size(0)\n",
        "    \n",
        "    train_loss.append(running_loss / len(train_loader.dataset))\n",
        "\n",
        "    ### Compute VALIDATION loss ###\n",
        "    running_loss = 0\n",
        "\n",
        "    for inputs, targets in val_loader:\n",
        "      # Enable CUDA\n",
        "      if use_cuda and torch.cuda.is_available():\n",
        "        inputs = inputs.cuda()\n",
        "        targets = targets.cuda()\n",
        "      \n",
        "      # Forward pass\n",
        "      with torch.no_grad():\n",
        "        outputs = model(inputs)\n",
        "      loss = criterion(outputs, targets)\n",
        "\n",
        "      # Update running loss\n",
        "      running_loss += loss.item() * inputs.size(0)\n",
        "    \n",
        "    val_loss.append(running_loss / len(val_loader.dataset))\n",
        "\n",
        "    # Compute accuracy\n",
        "    train_acc.append(get_classifier_accuracy(model, train_loader, use_cuda))\n",
        "    val_acc.append(get_classifier_accuracy(model, val_loader, use_cuda))\n",
        "\n",
        "    print('Epoch {} (accuracy): {} train, {} val'.format(epoch, train_acc[-1], val_acc[-1]))\n",
        "\n",
        "    # Checkpoint model\n",
        "    # Q: do we want to save checkpoints to our Drive?\n",
        "    path = model_path(model, train_loader.batch_size, learning_rate, epoch)\n",
        "    torch.save(model.state_dict(), path)\n",
        "\n",
        "  ### Plot Training Curves ###\n",
        "  fig, axs = plt.subplots(2)\n",
        "\n",
        "  # Loss\n",
        "  axs[0].plot(train_loss)\n",
        "  axs[0].plot(val_loss)\n",
        "\n",
        "  axs[0].legend(('Train', 'Validation'))\n",
        "  axs[0].set_title('Train / Validation Loss')\n",
        "  axs[0].set(xlabel='Epochs', ylabel='Loss')\n",
        "\n",
        "  # Accuracy\n",
        "  axs[1].plot(train_acc)\n",
        "  axs[1].plot(val_acc)\n",
        "\n",
        "  axs[1].legend(('Train', 'Validation'))\n",
        "  axs[1].set_title('Train / Validation Accuracy')\n",
        "  axs[1].set(xlabel='Epochs', ylabel='Accuracy')\n",
        "\n",
        "  plt.tight_layout()"
      ],
      "execution_count": 12,
      "outputs": []
    },
    {
      "cell_type": "markdown",
      "metadata": {
        "id": "lzbiJDXb_tya"
      },
      "source": [
        "# Model Implementation #"
      ]
    },
    {
      "cell_type": "code",
      "metadata": {
        "id": "R14JUk6S_xmJ"
      },
      "source": [
        "# Code for implementing the propsed model"
      ],
      "execution_count": null,
      "outputs": []
    }
  ]
}